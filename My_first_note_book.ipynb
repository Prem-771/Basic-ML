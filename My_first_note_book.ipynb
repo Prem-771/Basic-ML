{
  "nbformat": 4,
  "nbformat_minor": 0,
  "metadata": {
    "colab": {
      "name": "My first note book.ipynb",
      "provenance": [],
      "authorship_tag": "ABX9TyNvNdNoWVMMSJTqXQYhvduO",
      "include_colab_link": true
    },
    "kernelspec": {
      "display_name": "Python 3",
      "name": "python3"
    },
    "language_info": {
      "name": "python"
    }
  },
  "cells": [
    {
      "cell_type": "markdown",
      "metadata": {
        "id": "view-in-github",
        "colab_type": "text"
      },
      "source": [
        "<a href=\"https://colab.research.google.com/github/Prem-771/Basic-ML/blob/main/My_first_note_book.ipynb\" target=\"_parent\"><img src=\"https://colab.research.google.com/assets/colab-badge.svg\" alt=\"Open In Colab\"/></a>"
      ]
    },
    {
      "cell_type": "code",
      "metadata": {
        "colab": {
          "base_uri": "https://localhost:8080/"
        },
        "id": "Y6yoxrh94QJG",
        "outputId": "bf709d25-99f1-49ee-8a55-4bc68a5589c7"
      },
      "source": [
        "2+3"
      ],
      "execution_count": null,
      "outputs": [
        {
          "data": {
            "text/plain": [
              "5"
            ]
          },
          "execution_count": 4,
          "metadata": {},
          "output_type": "execute_result"
        }
      ]
    },
    {
      "cell_type": "markdown",
      "metadata": {
        "id": "x-moN8Ax7eO8"
      },
      "source": [
        ""
      ]
    },
    {
      "cell_type": "code",
      "metadata": {
        "id": "hZ-XN5Gc77kj",
        "colab": {
          "base_uri": "https://localhost:8080/"
        },
        "outputId": "5edb8325-7fbc-4409-9313-28a25d1c04dc"
      },
      "source": [
        "a=6\n",
        "b=8\n",
        "print(a)"
      ],
      "execution_count": null,
      "outputs": [
        {
          "output_type": "stream",
          "text": [
            "6\n"
          ],
          "name": "stdout"
        }
      ]
    },
    {
      "cell_type": "code",
      "metadata": {
        "colab": {
          "base_uri": "https://localhost:8080/"
        },
        "id": "qH9e9I1s92ir",
        "outputId": "335a85bc-fc07-4893-dab3-288f2e366c68"
      },
      "source": [
        "print(\"prem\")"
      ],
      "execution_count": null,
      "outputs": [
        {
          "output_type": "stream",
          "text": [
            "prem\n"
          ],
          "name": "stdout"
        }
      ]
    }
  ]
}